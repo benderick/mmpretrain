{
 "cells": [
  {
   "cell_type": "code",
   "execution_count": 1,
   "id": "27fa5073",
   "metadata": {},
   "outputs": [],
   "source": [
    "from mmpretrain import init_model\n",
    "import torch\n",
    "import matplotlib.pyplot as plt\n",
    "import numpy as np\n",
    "\n",
    "from mmpretrain.utils import register_all_modules\n"
   ]
  },
  {
   "cell_type": "code",
   "execution_count": 2,
   "id": "6172d37a",
   "metadata": {},
   "outputs": [
    {
     "name": "stdout",
     "output_type": "stream",
     "text": [
      "05/09 13:31:28 - mmengine - \u001b[4m\u001b[97mINFO\u001b[0m - Because batch augmentations are enabled, the data preprocessor automatically enables the `to_onehot` option to generate one-hot format labels.\n",
      "Loads checkpoint by local backend from path: /icislab/volume3/benderick/futurama/openmmlab/mmpretrain/projects/RS/exp-swin_v2/epoch_50.pth\n",
      "05/09 13:31:29 - mmengine - \u001b[4m\u001b[97mINFO\u001b[0m - Delete `relative_position_index` and `relative_coords_table` since we always re-init these params according to the `window_size`, which might cause unwanted but unworried warnings when loading checkpoint.\n",
      "The model and loaded state dict do not match exactly\n",
      "\n",
      "missing keys in source state_dict: backbone.stages.0.blocks.0.attn.w_msa.relative_coords_table, backbone.stages.0.blocks.0.attn.w_msa.relative_position_index, backbone.stages.0.blocks.1.attn.w_msa.relative_coords_table, backbone.stages.0.blocks.1.attn.w_msa.relative_position_index, backbone.stages.1.blocks.0.attn.w_msa.relative_coords_table, backbone.stages.1.blocks.0.attn.w_msa.relative_position_index, backbone.stages.1.blocks.1.attn.w_msa.relative_coords_table, backbone.stages.1.blocks.1.attn.w_msa.relative_position_index, backbone.stages.2.blocks.0.attn.w_msa.relative_coords_table, backbone.stages.2.blocks.0.attn.w_msa.relative_position_index, backbone.stages.2.blocks.1.attn.w_msa.relative_coords_table, backbone.stages.2.blocks.1.attn.w_msa.relative_position_index, backbone.stages.2.blocks.2.attn.w_msa.relative_coords_table, backbone.stages.2.blocks.2.attn.w_msa.relative_position_index, backbone.stages.2.blocks.3.attn.w_msa.relative_coords_table, backbone.stages.2.blocks.3.attn.w_msa.relative_position_index, backbone.stages.2.blocks.4.attn.w_msa.relative_coords_table, backbone.stages.2.blocks.4.attn.w_msa.relative_position_index, backbone.stages.2.blocks.5.attn.w_msa.relative_coords_table, backbone.stages.2.blocks.5.attn.w_msa.relative_position_index, backbone.stages.3.blocks.0.attn.w_msa.relative_coords_table, backbone.stages.3.blocks.0.attn.w_msa.relative_position_index, backbone.stages.3.blocks.1.attn.w_msa.relative_coords_table, backbone.stages.3.blocks.1.attn.w_msa.relative_position_index\n",
      "\n"
     ]
    }
   ],
   "source": [
    "# 初始化模型\n",
    "cfg = '/icislab/volume3/benderick/futurama/openmmlab/mmpretrain/projects/RS/swin_v2.py'\n",
    "checkpoint = '/icislab/volume3/benderick/futurama/openmmlab/mmpretrain/projects/RS/exp-swin_v2/epoch_50.pth'\n",
    "model = init_model(cfg, checkpoint, device='cpu')  # 或 device='cpu'"
   ]
  },
  {
   "cell_type": "code",
   "execution_count": 3,
   "id": "4aa217dc",
   "metadata": {},
   "outputs": [
    {
     "name": "stderr",
     "output_type": "stream",
     "text": [
      "/icislab/volume3/benderick/miniconda3/envs/openmmlab/lib/python3.10/site-packages/mmcv/cnn/bricks/transformer.py:125: TracerWarning: Converting a tensor to a Python float might cause the trace to be incorrect. We can't record the data flow of Python values, so this value will be treated as a constant in the future. This means that the trace might not generalize to other inputs!\n",
      "  output_h = math.ceil(input_h / stride_h)\n",
      "/icislab/volume3/benderick/miniconda3/envs/openmmlab/lib/python3.10/site-packages/mmcv/cnn/bricks/transformer.py:126: TracerWarning: Converting a tensor to a Python float might cause the trace to be incorrect. We can't record the data flow of Python values, so this value will be treated as a constant in the future. This means that the trace might not generalize to other inputs!\n",
      "  output_w = math.ceil(input_w / stride_w)\n",
      "/icislab/volume3/benderick/miniconda3/envs/openmmlab/lib/python3.10/site-packages/mmcv/cnn/bricks/transformer.py:127: TracerWarning: Converting a tensor to a Python boolean might cause the trace to be incorrect. We can't record the data flow of Python values, so this value will be treated as a constant in the future. This means that the trace might not generalize to other inputs!\n",
      "  pad_h = max((output_h - 1) * stride_h +\n",
      "/icislab/volume3/benderick/miniconda3/envs/openmmlab/lib/python3.10/site-packages/mmcv/cnn/bricks/transformer.py:129: TracerWarning: Converting a tensor to a Python boolean might cause the trace to be incorrect. We can't record the data flow of Python values, so this value will be treated as a constant in the future. This means that the trace might not generalize to other inputs!\n",
      "  pad_w = max((output_w - 1) * stride_w +\n",
      "/icislab/volume3/benderick/miniconda3/envs/openmmlab/lib/python3.10/site-packages/mmcv/cnn/bricks/transformer.py:143: TracerWarning: Converting a tensor to a Python boolean might cause the trace to be incorrect. We can't record the data flow of Python values, so this value will be treated as a constant in the future. This means that the trace might not generalize to other inputs!\n",
      "  if pad_h > 0 or pad_w > 0:\n",
      "/icislab/volume3/benderick/futurama/openmmlab/mmpretrain/mmpretrain/models/utils/attention.py:392: TracerWarning: Converting a tensor to a Python boolean might cause the trace to be incorrect. We can't record the data flow of Python values, so this value will be treated as a constant in the future. This means that the trace might not generalize to other inputs!\n",
      "  assert L == H * W, f\"The query length {L} doesn't match the input \"\\\n",
      "/icislab/volume3/benderick/futurama/openmmlab/mmpretrain/mmpretrain/models/utils/attention.py:399: TracerWarning: Converting a tensor to a Python boolean might cause the trace to be incorrect. We can't record the data flow of Python values, so this value will be treated as a constant in the future. This means that the trace might not generalize to other inputs!\n",
      "  if min(H, W) == window_size:\n",
      "/icislab/volume3/benderick/futurama/openmmlab/mmpretrain/mmpretrain/models/utils/attention.py:404: TracerWarning: Converting a tensor to a Python boolean might cause the trace to be incorrect. We can't record the data flow of Python values, so this value will be treated as a constant in the future. This means that the trace might not generalize to other inputs!\n",
      "  elif min(H, W) < window_size:\n",
      "/icislab/volume3/benderick/futurama/openmmlab/mmpretrain/mmpretrain/models/utils/attention.py:462: TracerWarning: Converting a tensor to a Python integer might cause the trace to be incorrect. We can't record the data flow of Python values, so this value will be treated as a constant in the future. This means that the trace might not generalize to other inputs!\n",
      "  B = int(windows.shape[0] / (H * W / window_size / window_size))\n",
      "/icislab/volume3/benderick/futurama/openmmlab/mmpretrain/mmpretrain/models/utils/attention.py:451: TracerWarning: Converting a tensor to a Python boolean might cause the trace to be incorrect. We can't record the data flow of Python values, so this value will be treated as a constant in the future. This means that the trace might not generalize to other inputs!\n",
      "  if H != H_pad or W != W_pad:\n",
      "/icislab/volume3/benderick/futurama/openmmlab/mmpretrain/mmpretrain/models/utils/embed.py:392: TracerWarning: Converting a tensor to a Python boolean might cause the trace to be incorrect. We can't record the data flow of Python values, so this value will be treated as a constant in the future. This means that the trace might not generalize to other inputs!\n",
      "  assert L == H * W, 'input feature has wrong size'\n"
     ]
    }
   ],
   "source": [
    "model.eval()\n",
    "dummy_input = torch.randn(1, 3, 256, 256, requires_grad=True)\n",
    "\n",
    "dummy_input = dummy_input.to('cpu')\n",
    "\n",
    "\n",
    "torch.onnx.export(model,\n",
    "                    dummy_input,\n",
    "                    \"../efficientv2.onnx\",  # 保存的onnx路径\n",
    "                    export_params=True,\n",
    "                    opset_version=11,     # 根据报错信息可能需要修改version\n",
    "                    do_constant_folding=True,\n",
    "                    input_names=['modelInput'],   #这些不用修改\n",
    "                    output_names=['modelOutput'],\n",
    "                    dynamic_axes={'modelInput' : {0 : 'batch_size'}, \n",
    "                                    'modelOutput' : {0 : 'batch_size'}}\n",
    "    \n",
    ")\n"
   ]
  }
 ],
 "metadata": {
  "kernelspec": {
   "display_name": "openmmlab",
   "language": "python",
   "name": "python3"
  },
  "language_info": {
   "codemirror_mode": {
    "name": "ipython",
    "version": 3
   },
   "file_extension": ".py",
   "mimetype": "text/x-python",
   "name": "python",
   "nbconvert_exporter": "python",
   "pygments_lexer": "ipython3",
   "version": "3.10.16"
  }
 },
 "nbformat": 4,
 "nbformat_minor": 5
}
