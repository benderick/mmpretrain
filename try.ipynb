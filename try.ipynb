{
 "cells": [
  {
   "cell_type": "code",
   "execution_count": 8,
   "id": "13d51684",
   "metadata": {},
   "outputs": [],
   "source": [
    "import torch"
   ]
  },
  {
   "cell_type": "code",
   "execution_count": 9,
   "id": "c7fa2a64",
   "metadata": {},
   "outputs": [],
   "source": [
    "from mmpretrain import models as zoo"
   ]
  },
  {
   "cell_type": "code",
   "execution_count": 10,
   "id": "ce6d04ec",
   "metadata": {},
   "outputs": [
    {
     "data": {
      "text/html": [
       "<pre style=\"white-space:pre;overflow-x:auto;line-height:normal;font-family:Menlo,'DejaVu Sans Mono',consolas,'Courier New',monospace\"></pre>\n"
      ],
      "text/plain": []
     },
     "metadata": {},
     "output_type": "display_data"
    },
    {
     "data": {
      "text/plain": [
       "\u001b[3m                                                 Registry of model                                                 \u001b[0m\n",
       "┏━━━━━━━━━━━━━━━━━━━━━━━━━━━━┳━━━━━━━━━━━━━━━━━━━━━━━━━━━━━━━━━━━━━━━━━━━━━━━━━━━━━━━━━━━━━━━━━━━━━━━━━━━━━━━━━━━━┓\n",
       "┃\u001b[1m \u001b[0m\u001b[1mNames                     \u001b[0m\u001b[1m \u001b[0m┃\u001b[1m \u001b[0m\u001b[1mObjects                                                                           \u001b[0m\u001b[1m \u001b[0m┃\n",
       "┡━━━━━━━━━━━━━━━━━━━━━━━━━━━━╇━━━━━━━━━━━━━━━━━━━━━━━━━━━━━━━━━━━━━━━━━━━━━━━━━━━━━━━━━━━━━━━━━━━━━━━━━━━━━━━━━━━━┩\n",
       "│\u001b[36m \u001b[0m\u001b[36mAlexNet                   \u001b[0m\u001b[36m \u001b[0m│\u001b[32m \u001b[0m\u001b[32m<class 'mmpretrain.models.backbones.alexnet.AlexNet'>                             \u001b[0m\u001b[32m \u001b[0m│\n",
       "│\u001b[36m \u001b[0m\u001b[36mArcFaceClsHead            \u001b[0m\u001b[36m \u001b[0m│\u001b[32m \u001b[0m\u001b[32m<class 'mmpretrain.models.heads.margin_head.ArcFaceClsHead'>                      \u001b[0m\u001b[32m \u001b[0m│\n",
       "│\u001b[36m \u001b[0m\u001b[36mAsymmetricLoss            \u001b[0m\u001b[36m \u001b[0m│\u001b[32m \u001b[0m\u001b[32m<class 'mmpretrain.models.losses.asymmetric_loss.AsymmetricLoss'>                 \u001b[0m\u001b[32m \u001b[0m│\n",
       "│\u001b[36m \u001b[0m\u001b[36mAverageClsScoreTTA        \u001b[0m\u001b[36m \u001b[0m│\u001b[32m \u001b[0m\u001b[32m<class 'mmpretrain.models.tta.score_tta.AverageClsScoreTTA'>                      \u001b[0m\u001b[32m \u001b[0m│\n",
       "│\u001b[36m \u001b[0m\u001b[36mBEiT                      \u001b[0m\u001b[36m \u001b[0m│\u001b[32m \u001b[0m\u001b[32m<class 'mmpretrain.models.selfsup.beit.BEiT'>                                     \u001b[0m\u001b[32m \u001b[0m│\n",
       "│\u001b[36m \u001b[0m\u001b[36mBEiTPretrainViT           \u001b[0m\u001b[36m \u001b[0m│\u001b[32m \u001b[0m\u001b[32m<class 'mmpretrain.models.selfsup.beit.BEiTPretrainViT'>                          \u001b[0m\u001b[32m \u001b[0m│\n",
       "│\u001b[36m \u001b[0m\u001b[36mBEiTV1Head                \u001b[0m\u001b[36m \u001b[0m│\u001b[32m \u001b[0m\u001b[32m<class 'mmpretrain.models.heads.beitv1_head.BEiTV1Head'>                          \u001b[0m\u001b[32m \u001b[0m│\n",
       "│\u001b[36m \u001b[0m\u001b[36mBEiTV2Head                \u001b[0m\u001b[36m \u001b[0m│\u001b[32m \u001b[0m\u001b[32m<class 'mmpretrain.models.heads.beitv2_head.BEiTV2Head'>                          \u001b[0m\u001b[32m \u001b[0m│\n",
       "│\u001b[36m \u001b[0m\u001b[36mBEiTV2Neck                \u001b[0m\u001b[36m \u001b[0m│\u001b[32m \u001b[0m\u001b[32m<class 'mmpretrain.models.necks.beitv2_neck.BEiTV2Neck'>                          \u001b[0m\u001b[32m \u001b[0m│\n",
       "│\u001b[36m \u001b[0m\u001b[36mBEiTViT                   \u001b[0m\u001b[36m \u001b[0m│\u001b[32m \u001b[0m\u001b[32m<class 'mmpretrain.models.backbones.beit.BEiTViT'>                                \u001b[0m\u001b[32m \u001b[0m│\n",
       "│\u001b[36m \u001b[0m\u001b[36mBYOL                      \u001b[0m\u001b[36m \u001b[0m│\u001b[32m \u001b[0m\u001b[32m<class 'mmpretrain.models.selfsup.byol.BYOL'>                                     \u001b[0m\u001b[32m \u001b[0m│\n",
       "│\u001b[36m \u001b[0m\u001b[36mBarlowTwins               \u001b[0m\u001b[36m \u001b[0m│\u001b[32m \u001b[0m\u001b[32m<class 'mmpretrain.models.selfsup.barlowtwins.BarlowTwins'>                       \u001b[0m\u001b[32m \u001b[0m│\n",
       "│\u001b[36m \u001b[0m\u001b[36mBlip2Caption              \u001b[0m\u001b[36m \u001b[0m│\u001b[32m \u001b[0m\u001b[32m<function register_multimodal_placeholder.<locals>.ask_install at 0x7fae96bdd630> \u001b[0m\u001b[32m \u001b[0m│\n",
       "│\u001b[36m \u001b[0m\u001b[36mBlip2Retrieval            \u001b[0m\u001b[36m \u001b[0m│\u001b[32m \u001b[0m\u001b[32m<function register_multimodal_placeholder.<locals>.ask_install at 0x7fae96c2b370> \u001b[0m\u001b[32m \u001b[0m│\n",
       "│\u001b[36m \u001b[0m\u001b[36mBlip2VQA                  \u001b[0m\u001b[36m \u001b[0m│\u001b[32m \u001b[0m\u001b[32m<function register_multimodal_placeholder.<locals>.ask_install at 0x7fae96c2b400> \u001b[0m\u001b[32m \u001b[0m│\n",
       "│\u001b[36m \u001b[0m\u001b[36mBlipCaption               \u001b[0m\u001b[36m \u001b[0m│\u001b[32m \u001b[0m\u001b[32m<function register_multimodal_placeholder.<locals>.ask_install at 0x7fae96c2b7f0> \u001b[0m\u001b[32m \u001b[0m│\n",
       "│\u001b[36m \u001b[0m\u001b[36mBlipGrounding             \u001b[0m\u001b[36m \u001b[0m│\u001b[32m \u001b[0m\u001b[32m<function register_multimodal_placeholder.<locals>.ask_install at 0x7fae96c2b9a0> \u001b[0m\u001b[32m \u001b[0m│\n",
       "│\u001b[36m \u001b[0m\u001b[36mBlipNLVR                  \u001b[0m\u001b[36m \u001b[0m│\u001b[32m \u001b[0m\u001b[32m<function register_multimodal_placeholder.<locals>.ask_install at 0x7fae96c2b880> \u001b[0m\u001b[32m \u001b[0m│\n",
       "│\u001b[36m \u001b[0m\u001b[36mBlipRetrieval             \u001b[0m\u001b[36m \u001b[0m│\u001b[32m \u001b[0m\u001b[32m<function register_multimodal_placeholder.<locals>.ask_install at 0x7fae96c2b910> \u001b[0m\u001b[32m \u001b[0m│\n",
       "│\u001b[36m \u001b[0m\u001b[36mBlipVQA                   \u001b[0m\u001b[36m \u001b[0m│\u001b[32m \u001b[0m\u001b[32m<function register_multimodal_placeholder.<locals>.ask_install at 0x7fae96c2ba30> \u001b[0m\u001b[32m \u001b[0m│\n",
       "│\u001b[36m \u001b[0m\u001b[36mCAE                       \u001b[0m\u001b[36m \u001b[0m│\u001b[32m \u001b[0m\u001b[32m<class 'mmpretrain.models.selfsup.cae.CAE'>                                       \u001b[0m\u001b[32m \u001b[0m│\n",
       "│\u001b[36m \u001b[0m\u001b[36mCAEHead                   \u001b[0m\u001b[36m \u001b[0m│\u001b[32m \u001b[0m\u001b[32m<class 'mmpretrain.models.heads.cae_head.CAEHead'>                                \u001b[0m\u001b[32m \u001b[0m│\n",
       "│\u001b[36m \u001b[0m\u001b[36mCAELoss                   \u001b[0m\u001b[36m \u001b[0m│\u001b[32m \u001b[0m\u001b[32m<class 'mmpretrain.models.losses.cae_loss.CAELoss'>                               \u001b[0m\u001b[32m \u001b[0m│\n",
       "│\u001b[36m \u001b[0m\u001b[36mCAENeck                   \u001b[0m\u001b[36m \u001b[0m│\u001b[32m \u001b[0m\u001b[32m<class 'mmpretrain.models.necks.cae_neck.CAENeck'>                                \u001b[0m\u001b[32m \u001b[0m│\n",
       "│\u001b[36m \u001b[0m\u001b[36mCAEPretrainViT            \u001b[0m\u001b[36m \u001b[0m│\u001b[32m \u001b[0m\u001b[32m<class 'mmpretrain.models.selfsup.cae.CAEPretrainViT'>                            \u001b[0m\u001b[32m \u001b[0m│\n",
       "│\u001b[36m \u001b[0m\u001b[36mCLIP                      \u001b[0m\u001b[36m \u001b[0m│\u001b[32m \u001b[0m\u001b[32m<function register_multimodal_placeholder.<locals>.ask_install at 0x7fae96c2be20> \u001b[0m\u001b[32m \u001b[0m│\n",
       "│\u001b[36m \u001b[0m\u001b[36mCLIPGenerator             \u001b[0m\u001b[36m \u001b[0m│\u001b[32m \u001b[0m\u001b[32m<class 'mmpretrain.models.selfsup.milan.CLIPGenerator'>                           \u001b[0m\u001b[32m \u001b[0m│\n",
       "│\u001b[36m \u001b[0m\u001b[36mCLIPZeroShot              \u001b[0m\u001b[36m \u001b[0m│\u001b[32m \u001b[0m\u001b[32m<function register_multimodal_placeholder.<locals>.ask_install at 0x7fae96c2beb0> \u001b[0m\u001b[32m \u001b[0m│\n",
       "│\u001b[36m \u001b[0m\u001b[36mCSPDarkNet                \u001b[0m\u001b[36m \u001b[0m│\u001b[32m \u001b[0m\u001b[32m<class 'mmpretrain.models.backbones.cspnet.CSPDarkNet'>                           \u001b[0m\u001b[32m \u001b[0m│\n",
       "│\u001b[36m \u001b[0m\u001b[36mCSPResNeXt                \u001b[0m\u001b[36m \u001b[0m│\u001b[32m \u001b[0m\u001b[32m<class 'mmpretrain.models.backbones.cspnet.CSPResNeXt'>                           \u001b[0m\u001b[32m \u001b[0m│\n",
       "│\u001b[36m \u001b[0m\u001b[36mCSPResNet                 \u001b[0m\u001b[36m \u001b[0m│\u001b[32m \u001b[0m\u001b[32m<class 'mmpretrain.models.backbones.cspnet.CSPResNet'>                            \u001b[0m\u001b[32m \u001b[0m│\n",
       "│\u001b[36m \u001b[0m\u001b[36mCSRAClsHead               \u001b[0m\u001b[36m \u001b[0m│\u001b[32m \u001b[0m\u001b[32m<class 'mmpretrain.models.heads.multi_label_csra_head.CSRAClsHead'>               \u001b[0m\u001b[32m \u001b[0m│\n",
       "│\u001b[36m \u001b[0m\u001b[36mChineseCLIP               \u001b[0m\u001b[36m \u001b[0m│\u001b[32m \u001b[0m\u001b[32m<function register_multimodal_placeholder.<locals>.ask_install at 0x7fae96c2bbe0> \u001b[0m\u001b[32m \u001b[0m│\n",
       "│\u001b[36m \u001b[0m\u001b[36mClsBatchNormNeck          \u001b[0m\u001b[36m \u001b[0m│\u001b[32m \u001b[0m\u001b[32m<class 'mmpretrain.models.necks.mae_neck.ClsBatchNormNeck'>                       \u001b[0m\u001b[32m \u001b[0m│\n",
       "│\u001b[36m \u001b[0m\u001b[36mClsDataPreprocessor       \u001b[0m\u001b[36m \u001b[0m│\u001b[32m \u001b[0m\u001b[32m<class 'mmpretrain.models.utils.data_preprocessor.ClsDataPreprocessor'>           \u001b[0m\u001b[32m \u001b[0m│\n",
       "│\u001b[36m \u001b[0m\u001b[36mClsHead                   \u001b[0m\u001b[36m \u001b[0m│\u001b[32m \u001b[0m\u001b[32m<class 'mmpretrain.models.heads.cls_head.ClsHead'>                                \u001b[0m\u001b[32m \u001b[0m│\n",
       "│\u001b[36m \u001b[0m\u001b[36mConformer                 \u001b[0m\u001b[36m \u001b[0m│\u001b[32m \u001b[0m\u001b[32m<class 'mmpretrain.models.backbones.conformer.Conformer'>                         \u001b[0m\u001b[32m \u001b[0m│\n",
       "│\u001b[36m \u001b[0m\u001b[36mConformerHead             \u001b[0m\u001b[36m \u001b[0m│\u001b[32m \u001b[0m\u001b[32m<class 'mmpretrain.models.heads.conformer_head.ConformerHead'>                    \u001b[0m\u001b[32m \u001b[0m│\n",
       "│\u001b[36m \u001b[0m\u001b[36mConformer_MBFD            \u001b[0m\u001b[36m \u001b[0m│\u001b[32m \u001b[0m\u001b[32m<class 'mmpretrain.models.backbones.conformer_mbfd.Conformer_MBFD'>               \u001b[0m\u001b[32m \u001b[0m│\n",
       "│\u001b[36m \u001b[0m\u001b[36mContrastiveHead           \u001b[0m\u001b[36m \u001b[0m│\u001b[32m \u001b[0m\u001b[32m<class 'mmpretrain.models.heads.contrastive_head.ContrastiveHead'>                \u001b[0m\u001b[32m \u001b[0m│\n",
       "│\u001b[36m \u001b[0m\u001b[36mConvMixer                 \u001b[0m\u001b[36m \u001b[0m│\u001b[32m \u001b[0m\u001b[32m<class 'mmpretrain.models.backbones.convmixer.ConvMixer'>                         \u001b[0m\u001b[32m \u001b[0m│\n",
       "│\u001b[36m \u001b[0m\u001b[36mConvNeXt                  \u001b[0m\u001b[36m \u001b[0m│\u001b[32m \u001b[0m\u001b[32m<class 'mmpretrain.models.backbones.convnext.ConvNeXt'>                           \u001b[0m\u001b[32m \u001b[0m│\n",
       "│\u001b[36m \u001b[0m\u001b[36mConvNeXt_MBFD             \u001b[0m\u001b[36m \u001b[0m│\u001b[32m \u001b[0m\u001b[32m<class 'mmpretrain.models.backbones.convnext_mbfd.ConvNeXt_MBFD'>                 \u001b[0m\u001b[32m \u001b[0m│\n",
       "│\u001b[36m \u001b[0m\u001b[36mConvNeXt_RFD              \u001b[0m\u001b[36m \u001b[0m│\u001b[32m \u001b[0m\u001b[32m<class 'mmpretrain.models.backbones.convnext_rfd.ConvNeXt_RFD'>                   \u001b[0m\u001b[32m \u001b[0m│\n",
       "│\u001b[36m \u001b[0m\u001b[36mCosineEMA                 \u001b[0m\u001b[36m \u001b[0m│\u001b[32m \u001b[0m\u001b[32m<class 'mmpretrain.models.utils.ema.CosineEMA'>                                   \u001b[0m\u001b[32m \u001b[0m│\n",
       "│\u001b[36m \u001b[0m\u001b[36mCosineSimilarityLoss      \u001b[0m\u001b[36m \u001b[0m│\u001b[32m \u001b[0m\u001b[32m<class 'mmpretrain.models.losses.cosine_similarity_loss.CosineSimilarityLoss'>    \u001b[0m\u001b[32m \u001b[0m│\n",
       "│\u001b[36m \u001b[0m\u001b[36mCrossCorrelationLoss      \u001b[0m\u001b[36m \u001b[0m│\u001b[32m \u001b[0m\u001b[32m<class 'mmpretrain.models.losses.cross_correlation_loss.CrossCorrelationLoss'>    \u001b[0m\u001b[32m \u001b[0m│\n",
       "│\u001b[36m \u001b[0m\u001b[36mCrossEntropyLoss          \u001b[0m\u001b[36m \u001b[0m│\u001b[32m \u001b[0m\u001b[32m<class 'mmpretrain.models.losses.cross_entropy_loss.CrossEntropyLoss'>            \u001b[0m\u001b[32m \u001b[0m│\n",
       "│\u001b[36m \u001b[0m\u001b[36mDALL-E                    \u001b[0m\u001b[36m \u001b[0m│\u001b[32m \u001b[0m\u001b[32m<class 'mmpretrain.models.selfsup.cae.DALLEEncoder'>                              \u001b[0m\u001b[32m \u001b[0m│\n",
       "│\u001b[36m \u001b[0m\u001b[36mDaViT                     \u001b[0m\u001b[36m \u001b[0m│\u001b[32m \u001b[0m\u001b[32m<class 'mmpretrain.models.backbones.davit.DaViT'>                                 \u001b[0m\u001b[32m \u001b[0m│\n",
       "│\u001b[36m \u001b[0m\u001b[36mDeiT3                     \u001b[0m\u001b[36m \u001b[0m│\u001b[32m \u001b[0m\u001b[32m<class 'mmpretrain.models.backbones.deit3.DeiT3'>                                 \u001b[0m\u001b[32m \u001b[0m│\n",
       "│\u001b[36m \u001b[0m\u001b[36mDeiT3_MBFD                \u001b[0m\u001b[36m \u001b[0m│\u001b[32m \u001b[0m\u001b[32m<class 'mmpretrain.models.backbones.deit3_mbfd.DeiT3_MBFD'>                       \u001b[0m\u001b[32m \u001b[0m│\n",
       "│\u001b[36m \u001b[0m\u001b[36mDeiTClsHead               \u001b[0m\u001b[36m \u001b[0m│\u001b[32m \u001b[0m\u001b[32m<class 'mmpretrain.models.heads.deit_head.DeiTClsHead'>                           \u001b[0m\u001b[32m \u001b[0m│\n",
       "│\u001b[36m \u001b[0m\u001b[36mDenseCL                   \u001b[0m\u001b[36m \u001b[0m│\u001b[32m \u001b[0m\u001b[32m<class 'mmpretrain.models.selfsup.densecl.DenseCL'>                               \u001b[0m\u001b[32m \u001b[0m│\n",
       "│\u001b[36m \u001b[0m\u001b[36mDenseCLNeck               \u001b[0m\u001b[36m \u001b[0m│\u001b[32m \u001b[0m\u001b[32m<class 'mmpretrain.models.necks.densecl_neck.DenseCLNeck'>                        \u001b[0m\u001b[32m \u001b[0m│\n",
       "│\u001b[36m \u001b[0m\u001b[36mDenseNet                  \u001b[0m\u001b[36m \u001b[0m│\u001b[32m \u001b[0m\u001b[32m<class 'mmpretrain.models.backbones.densenet.DenseNet'>                           \u001b[0m\u001b[32m \u001b[0m│\n",
       "│\u001b[36m \u001b[0m\u001b[36mDistilledVisionTransformer\u001b[0m\u001b[36m \u001b[0m│\u001b[32m \u001b[0m\u001b[32m<class 'mmpretrain.models.backbones.deit.DistilledVisionTransformer'>             \u001b[0m\u001b[32m \u001b[0m│\n",
       "│\u001b[36m \u001b[0m\u001b[36mEVA                       \u001b[0m\u001b[36m \u001b[0m│\u001b[32m \u001b[0m\u001b[32m<class 'mmpretrain.models.selfsup.eva.EVA'>                                       \u001b[0m\u001b[32m \u001b[0m│\n",
       "│\u001b[36m \u001b[0m\u001b[36mEdgeNeXt                  \u001b[0m\u001b[36m \u001b[0m│\u001b[32m \u001b[0m\u001b[32m<class 'mmpretrain.models.backbones.edgenext.EdgeNeXt'>                           \u001b[0m\u001b[32m \u001b[0m│\n",
       "│\u001b[36m \u001b[0m\u001b[36mEfficientFormer           \u001b[0m\u001b[36m \u001b[0m│\u001b[32m \u001b[0m\u001b[32m<class 'mmpretrain.models.backbones.efficientformer.EfficientFormer'>             \u001b[0m\u001b[32m \u001b[0m│\n",
       "│\u001b[36m \u001b[0m\u001b[36mEfficientFormerClsHead    \u001b[0m\u001b[36m \u001b[0m│\u001b[32m \u001b[0m\u001b[32m<class 'mmpretrain.models.heads.efficientformer_head.EfficientFormerClsHead'>     \u001b[0m\u001b[32m \u001b[0m│\n",
       "│\u001b[36m \u001b[0m\u001b[36mEfficientNet              \u001b[0m\u001b[36m \u001b[0m│\u001b[32m \u001b[0m\u001b[32m<class 'mmpretrain.models.backbones.efficientnet.EfficientNet'>                   \u001b[0m\u001b[32m \u001b[0m│\n",
       "│\u001b[36m \u001b[0m\u001b[36mEfficientNetV2            \u001b[0m\u001b[36m \u001b[0m│\u001b[32m \u001b[0m\u001b[32m<class 'mmpretrain.models.backbones.efficientnet_v2.EfficientNetV2'>              \u001b[0m\u001b[32m \u001b[0m│\n",
       "│\u001b[36m \u001b[0m\u001b[36mFlamingo                  \u001b[0m\u001b[36m \u001b[0m│\u001b[32m \u001b[0m\u001b[32m<function register_multimodal_placeholder.<locals>.ask_install at 0x7fae96c2bac0> \u001b[0m\u001b[32m \u001b[0m│\n",
       "│\u001b[36m \u001b[0m\u001b[36mFocalLoss                 \u001b[0m\u001b[36m \u001b[0m│\u001b[32m \u001b[0m\u001b[32m<class 'mmpretrain.models.losses.focal_loss.FocalLoss'>                           \u001b[0m\u001b[32m \u001b[0m│\n",
       "│\u001b[36m \u001b[0m\u001b[36mGRN                       \u001b[0m\u001b[36m \u001b[0m│\u001b[32m \u001b[0m\u001b[32m<class 'mmpretrain.models.utils.norm.GRN'>                                        \u001b[0m\u001b[32m \u001b[0m│\n",
       "│\u001b[36m \u001b[0m\u001b[36mGeneralizedMeanPooling    \u001b[0m\u001b[36m \u001b[0m│\u001b[32m \u001b[0m\u001b[32m<class 'mmpretrain.models.necks.gem.GeneralizedMeanPooling'>                      \u001b[0m\u001b[32m \u001b[0m│\n",
       "│\u001b[36m \u001b[0m\u001b[36mGlobalAveragePooling      \u001b[0m\u001b[36m \u001b[0m│\u001b[32m \u001b[0m\u001b[32m<class 'mmpretrain.models.necks.gap.GlobalAveragePooling'>                        \u001b[0m\u001b[32m \u001b[0m│\n",
       "│\u001b[36m \u001b[0m\u001b[36mGroundingHead             \u001b[0m\u001b[36m \u001b[0m│\u001b[32m \u001b[0m\u001b[32m<class 'mmpretrain.models.heads.grounding_head.GroundingHead'>                    \u001b[0m\u001b[32m \u001b[0m│\n",
       "│\u001b[36m \u001b[0m\u001b[36mHOGGenerator              \u001b[0m\u001b[36m \u001b[0m│\u001b[32m \u001b[0m\u001b[32m<class 'mmpretrain.models.selfsup.maskfeat.HOGGenerator'>                         \u001b[0m\u001b[32m \u001b[0m│\n",
       "│\u001b[36m \u001b[0m\u001b[36mHRFuseScales              \u001b[0m\u001b[36m \u001b[0m│\u001b[32m \u001b[0m\u001b[32m<class 'mmpretrain.models.necks.hr_fuse.HRFuseScales'>                            \u001b[0m\u001b[32m \u001b[0m│\n",
       "│\u001b[36m \u001b[0m\u001b[36mHRNet                     \u001b[0m\u001b[36m \u001b[0m│\u001b[32m \u001b[0m\u001b[32m<class 'mmpretrain.models.backbones.hrnet.HRNet'>                                 \u001b[0m\u001b[32m \u001b[0m│\n",
       "│\u001b[36m \u001b[0m\u001b[36mHiViT                     \u001b[0m\u001b[36m \u001b[0m│\u001b[32m \u001b[0m\u001b[32m<class 'mmpretrain.models.backbones.hivit.HiViT'>                                 \u001b[0m\u001b[32m \u001b[0m│\n",
       "│\u001b[36m \u001b[0m\u001b[36mHorNet                    \u001b[0m\u001b[36m \u001b[0m│\u001b[32m \u001b[0m\u001b[32m<class 'mmpretrain.models.backbones.hornet.HorNet'>                               \u001b[0m\u001b[32m \u001b[0m│\n",
       "│\u001b[36m \u001b[0m\u001b[36mHuggingFaceClassifier     \u001b[0m\u001b[36m \u001b[0m│\u001b[32m \u001b[0m\u001b[32m<class 'mmpretrain.models.classifiers.hugging_face.HuggingFaceClassifier'>        \u001b[0m\u001b[32m \u001b[0m│\n",
       "│\u001b[36m \u001b[0m\u001b[36mITCHead                   \u001b[0m\u001b[36m \u001b[0m│\u001b[32m \u001b[0m\u001b[32m<class 'mmpretrain.models.heads.itc_head.ITCHead'>                                \u001b[0m\u001b[32m \u001b[0m│\n",
       "│\u001b[36m \u001b[0m\u001b[36mITMHead                   \u001b[0m\u001b[36m \u001b[0m│\u001b[32m \u001b[0m\u001b[32m<class 'mmpretrain.models.heads.itm_head.ITMHead'>                                \u001b[0m\u001b[32m \u001b[0m│\n",
       "│\u001b[36m \u001b[0m\u001b[36mImageClassifier           \u001b[0m\u001b[36m \u001b[0m│\u001b[32m \u001b[0m\u001b[32m<class 'mmpretrain.models.classifiers.image.ImageClassifier'>                     \u001b[0m\u001b[32m \u001b[0m│\n",
       "│\u001b[36m \u001b[0m\u001b[36mImageToImageRetriever     \u001b[0m\u001b[36m \u001b[0m│\u001b[32m \u001b[0m\u001b[32m<class 'mmpretrain.models.retrievers.image2image.ImageToImageRetriever'>          \u001b[0m\u001b[32m \u001b[0m│\n",
       "│\u001b[36m \u001b[0m\u001b[36mInceptionV3               \u001b[0m\u001b[36m \u001b[0m│\u001b[32m \u001b[0m\u001b[32m<class 'mmpretrain.models.backbones.inception_v3.InceptionV3'>                    \u001b[0m\u001b[32m \u001b[0m│\n",
       "│\u001b[36m \u001b[0m\u001b[36mLN2d                      \u001b[0m\u001b[36m \u001b[0m│\u001b[32m \u001b[0m\u001b[32m<class 'mmpretrain.models.utils.norm.LayerNorm2d'>                                \u001b[0m\u001b[32m \u001b[0m│\n",
       "│\u001b[36m \u001b[0m\u001b[36mLabelSmoothLoss           \u001b[0m\u001b[36m \u001b[0m│\u001b[32m \u001b[0m\u001b[32m<class 'mmpretrain.models.losses.label_smooth_loss.LabelSmoothLoss'>              \u001b[0m\u001b[32m \u001b[0m│\n",
       "│\u001b[36m \u001b[0m\u001b[36mLatentCrossCorrelationHead\u001b[0m\u001b[36m \u001b[0m│\u001b[32m \u001b[0m\u001b[32m<class 'mmpretrain.models.heads.latent_heads.LatentCrossCorrelationHead'>         \u001b[0m\u001b[32m \u001b[0m│\n",
       "│\u001b[36m \u001b[0m\u001b[36mLatentPredictHead         \u001b[0m\u001b[36m \u001b[0m│\u001b[32m \u001b[0m\u001b[32m<class 'mmpretrain.models.heads.latent_heads.LatentPredictHead'>                  \u001b[0m\u001b[32m \u001b[0m│\n",
       "│\u001b[36m \u001b[0m\u001b[36mLeNet5                    \u001b[0m\u001b[36m \u001b[0m│\u001b[32m \u001b[0m\u001b[32m<class 'mmpretrain.models.backbones.lenet.LeNet5'>                                \u001b[0m\u001b[32m \u001b[0m│\n",
       "│\u001b[36m \u001b[0m\u001b[36mLeViT                     \u001b[0m\u001b[36m \u001b[0m│\u001b[32m \u001b[0m\u001b[32m<class 'mmpretrain.models.backbones.levit.LeViT'>                                 \u001b[0m\u001b[32m \u001b[0m│\n",
       "│\u001b[36m \u001b[0m\u001b[36mLeViTClsHead              \u001b[0m\u001b[36m \u001b[0m│\u001b[32m \u001b[0m\u001b[32m<class 'mmpretrain.models.heads.levit_head.LeViTClsHead'>                         \u001b[0m\u001b[32m \u001b[0m│\n",
       "│\u001b[36m \u001b[0m\u001b[36mLinearClsHead             \u001b[0m\u001b[36m \u001b[0m│\u001b[32m \u001b[0m\u001b[32m<class 'mmpretrain.models.heads.linear_head.LinearClsHead'>                       \u001b[0m\u001b[32m \u001b[0m│\n",
       "│\u001b[36m \u001b[0m\u001b[36mLinearNeck                \u001b[0m\u001b[36m \u001b[0m│\u001b[32m \u001b[0m\u001b[32m<class 'mmpretrain.models.necks.linear_neck.LinearNeck'>                          \u001b[0m\u001b[32m \u001b[0m│\n",
       "│\u001b[36m \u001b[0m\u001b[36mLlava                     \u001b[0m\u001b[36m \u001b[0m│\u001b[32m \u001b[0m\u001b[32m<function register_multimodal_placeholder.<locals>.ask_install at 0x7fae96c2bd00> \u001b[0m\u001b[32m \u001b[0m│\n",
       "│\u001b[36m \u001b[0m\u001b[36mLoRAModel                 \u001b[0m\u001b[36m \u001b[0m│\u001b[32m \u001b[0m\u001b[32m<class 'mmpretrain.models.peft.lora.LoRAModel'>                                   \u001b[0m\u001b[32m \u001b[0m│\n",
       "│\u001b[36m \u001b[0m\u001b[36mMAE                       \u001b[0m\u001b[36m \u001b[0m│\u001b[32m \u001b[0m\u001b[32m<class 'mmpretrain.models.selfsup.mae.MAE'>                                       \u001b[0m\u001b[32m \u001b[0m│\n",
       "│\u001b[36m \u001b[0m\u001b[36mMAEHiViT                  \u001b[0m\u001b[36m \u001b[0m│\u001b[32m \u001b[0m\u001b[32m<class 'mmpretrain.models.selfsup.mae.MAEHiViT'>                                  \u001b[0m\u001b[32m \u001b[0m│\n",
       "│\u001b[36m \u001b[0m\u001b[36mMAEPretrainDecoder        \u001b[0m\u001b[36m \u001b[0m│\u001b[32m \u001b[0m\u001b[32m<class 'mmpretrain.models.necks.mae_neck.MAEPretrainDecoder'>                     \u001b[0m\u001b[32m \u001b[0m│\n",
       "│\u001b[36m \u001b[0m\u001b[36mMAEPretrainHead           \u001b[0m\u001b[36m \u001b[0m│\u001b[32m \u001b[0m\u001b[32m<class 'mmpretrain.models.heads.mae_head.MAEPretrainHead'>                        \u001b[0m\u001b[32m \u001b[0m│\n",
       "│\u001b[36m \u001b[0m\u001b[36mMAEViT                    \u001b[0m\u001b[36m \u001b[0m│\u001b[32m \u001b[0m\u001b[32m<class 'mmpretrain.models.selfsup.mae.MAEViT'>                                    \u001b[0m\u001b[32m \u001b[0m│\n",
       "│\u001b[36m \u001b[0m\u001b[36mMFF                       \u001b[0m\u001b[36m \u001b[0m│\u001b[32m \u001b[0m\u001b[32m<class 'mmpretrain.models.selfsup.mff.MFF'>                                       \u001b[0m\u001b[32m \u001b[0m│\n",
       "│\u001b[36m \u001b[0m\u001b[36mMFFViT                    \u001b[0m\u001b[36m \u001b[0m│\u001b[32m \u001b[0m\u001b[32m<class 'mmpretrain.models.selfsup.mff.MFFViT'>                                    \u001b[0m\u001b[32m \u001b[0m│\n",
       "│\u001b[36m \u001b[0m\u001b[36mMILAN                     \u001b[0m\u001b[36m \u001b[0m│\u001b[32m \u001b[0m\u001b[32m<class 'mmpretrain.models.selfsup.milan.MILAN'>                                   \u001b[0m\u001b[32m \u001b[0m│\n",
       "│\u001b[36m \u001b[0m\u001b[36mMILANPretrainDecoder      \u001b[0m\u001b[36m \u001b[0m│\u001b[32m \u001b[0m\u001b[32m<class 'mmpretrain.models.necks.milan_neck.MILANPretrainDecoder'>                 \u001b[0m\u001b[32m \u001b[0m│\n",
       "│\u001b[36m \u001b[0m\u001b[36mMILANViT                  \u001b[0m\u001b[36m \u001b[0m│\u001b[32m \u001b[0m\u001b[32m<class 'mmpretrain.models.selfsup.milan.MILANViT'>                                \u001b[0m\u001b[32m \u001b[0m│\n",
       "│\u001b[36m \u001b[0m\u001b[36mMIMHead                   \u001b[0m\u001b[36m \u001b[0m│\u001b[32m \u001b[0m\u001b[32m<class 'mmpretrain.models.heads.mim_head.MIMHead'>                                \u001b[0m\u001b[32m \u001b[0m│\n",
       "│\u001b[36m \u001b[0m\u001b[36mMViT                      \u001b[0m\u001b[36m \u001b[0m│\u001b[32m \u001b[0m\u001b[32m<class 'mmpretrain.models.backbones.mvit.MViT'>                                   \u001b[0m\u001b[32m \u001b[0m│\n",
       "│\u001b[36m \u001b[0m\u001b[36mMViT_MBFD                 \u001b[0m\u001b[36m \u001b[0m│\u001b[32m \u001b[0m\u001b[32m<class 'mmpretrain.models.backbones.mvit_mbfd.MViT_MBFD'>                         \u001b[0m\u001b[32m \u001b[0m│\n",
       "│\u001b[36m \u001b[0m\u001b[36mMaskFeat                  \u001b[0m\u001b[36m \u001b[0m│\u001b[32m \u001b[0m\u001b[32m<class 'mmpretrain.models.selfsup.maskfeat.MaskFeat'>                             \u001b[0m\u001b[32m \u001b[0m│\n",
       "│\u001b[36m \u001b[0m\u001b[36mMaskFeatViT               \u001b[0m\u001b[36m \u001b[0m│\u001b[32m \u001b[0m\u001b[32m<class 'mmpretrain.models.selfsup.maskfeat.MaskFeatViT'>                          \u001b[0m\u001b[32m \u001b[0m│\n",
       "│\u001b[36m \u001b[0m\u001b[36mMiniGPT4                  \u001b[0m\u001b[36m \u001b[0m│\u001b[32m \u001b[0m\u001b[32m<function register_multimodal_placeholder.<locals>.ask_install at 0x7fae96c2bc70> \u001b[0m\u001b[32m \u001b[0m│\n",
       "│\u001b[36m \u001b[0m\u001b[36mMixMIM                    \u001b[0m\u001b[36m \u001b[0m│\u001b[32m \u001b[0m\u001b[32m<class 'mmpretrain.models.selfsup.mixmim.MixMIM'>                                 \u001b[0m\u001b[32m \u001b[0m│\n",
       "│\u001b[36m \u001b[0m\u001b[36mMixMIMPretrainDecoder     \u001b[0m\u001b[36m \u001b[0m│\u001b[32m \u001b[0m\u001b[32m<class 'mmpretrain.models.necks.mixmim_neck.MixMIMPretrainDecoder'>               \u001b[0m\u001b[32m \u001b[0m│\n",
       "│\u001b[36m \u001b[0m\u001b[36mMixMIMPretrainHead        \u001b[0m\u001b[36m \u001b[0m│\u001b[32m \u001b[0m\u001b[32m<class 'mmpretrain.models.heads.mixmim_head.MixMIMPretrainHead'>                  \u001b[0m\u001b[32m \u001b[0m│\n",
       "│\u001b[36m \u001b[0m\u001b[36mMixMIMPretrainTransformer \u001b[0m\u001b[36m \u001b[0m│\u001b[32m \u001b[0m\u001b[32m<class 'mmpretrain.models.selfsup.mixmim.MixMIMPretrainTransformer'>              \u001b[0m\u001b[32m \u001b[0m│\n",
       "│\u001b[36m \u001b[0m\u001b[36mMixMIMTransformer         \u001b[0m\u001b[36m \u001b[0m│\u001b[32m \u001b[0m\u001b[32m<class 'mmpretrain.models.backbones.mixmim.MixMIMTransformer'>                    \u001b[0m\u001b[32m \u001b[0m│\n",
       "│\u001b[36m \u001b[0m\u001b[36mMlpMixer                  \u001b[0m\u001b[36m \u001b[0m│\u001b[32m \u001b[0m\u001b[32m<class 'mmpretrain.models.backbones.mlp_mixer.MlpMixer'>                          \u001b[0m\u001b[32m \u001b[0m│\n",
       "│\u001b[36m \u001b[0m\u001b[36mMoCo                      \u001b[0m\u001b[36m \u001b[0m│\u001b[32m \u001b[0m\u001b[32m<class 'mmpretrain.models.selfsup.moco.MoCo'>                                     \u001b[0m\u001b[32m \u001b[0m│\n",
       "│\u001b[36m \u001b[0m\u001b[36mMoCoV2Neck                \u001b[0m\u001b[36m \u001b[0m│\u001b[32m \u001b[0m\u001b[32m<class 'mmpretrain.models.necks.mocov2_neck.MoCoV2Neck'>                          \u001b[0m\u001b[32m \u001b[0m│\n",
       "│\u001b[36m \u001b[0m\u001b[36mMoCoV3                    \u001b[0m\u001b[36m \u001b[0m│\u001b[32m \u001b[0m\u001b[32m<class 'mmpretrain.models.selfsup.mocov3.MoCoV3'>                                 \u001b[0m\u001b[32m \u001b[0m│\n",
       "│\u001b[36m \u001b[0m\u001b[36mMoCoV3Head                \u001b[0m\u001b[36m \u001b[0m│\u001b[32m \u001b[0m\u001b[32m<class 'mmpretrain.models.heads.mocov3_head.MoCoV3Head'>                          \u001b[0m\u001b[32m \u001b[0m│\n",
       "│\u001b[36m \u001b[0m\u001b[36mMoCoV3ViT                 \u001b[0m\u001b[36m \u001b[0m│\u001b[32m \u001b[0m\u001b[32m<class 'mmpretrain.models.selfsup.mocov3.MoCoV3ViT'>                              \u001b[0m\u001b[32m \u001b[0m│\n",
       "│\u001b[36m \u001b[0m\u001b[36mMobileNetV2               \u001b[0m\u001b[36m \u001b[0m│\u001b[32m \u001b[0m\u001b[32m<class 'mmpretrain.models.backbones.mobilenet_v2.MobileNetV2'>                    \u001b[0m\u001b[32m \u001b[0m│\n",
       "│\u001b[36m \u001b[0m\u001b[36mMobileNetV3               \u001b[0m\u001b[36m \u001b[0m│\u001b[32m \u001b[0m\u001b[32m<class 'mmpretrain.models.backbones.mobilenet_v3.MobileNetV3'>                    \u001b[0m\u001b[32m \u001b[0m│\n",
       "│\u001b[36m \u001b[0m\u001b[36mMobileOne                 \u001b[0m\u001b[36m \u001b[0m│\u001b[32m \u001b[0m\u001b[32m<class 'mmpretrain.models.backbones.mobileone.MobileOne'>                         \u001b[0m\u001b[32m \u001b[0m│\n",
       "│\u001b[36m \u001b[0m\u001b[36mMobileViT                 \u001b[0m\u001b[36m \u001b[0m│\u001b[32m \u001b[0m\u001b[32m<class 'mmpretrain.models.backbones.mobilevit.MobileViT'>                         \u001b[0m\u001b[32m \u001b[0m│\n",
       "│\u001b[36m \u001b[0m\u001b[36mMultiLabelClsHead         \u001b[0m\u001b[36m \u001b[0m│\u001b[32m \u001b[0m\u001b[32m<class 'mmpretrain.models.heads.multi_label_cls_head.MultiLabelClsHead'>          \u001b[0m\u001b[32m \u001b[0m│\n",
       "│\u001b[36m \u001b[0m\u001b[36mMultiLabelLinearClsHead   \u001b[0m\u001b[36m \u001b[0m│\u001b[32m \u001b[0m\u001b[32m<class 'mmpretrain.models.heads.multi_label_linear_head.MultiLabelLinearClsHead'> \u001b[0m\u001b[32m \u001b[0m│\n",
       "│\u001b[36m \u001b[0m\u001b[36mMultiModalDataPreprocessor\u001b[0m\u001b[36m \u001b[0m│\u001b[32m \u001b[0m\u001b[32m<class 'mmpretrain.models.utils.data_preprocessor.MultiModalDataPreprocessor'>    \u001b[0m\u001b[32m \u001b[0m│\n",
       "│\u001b[36m \u001b[0m\u001b[36mMultiTaskHead             \u001b[0m\u001b[36m \u001b[0m│\u001b[32m \u001b[0m\u001b[32m<class 'mmpretrain.models.heads.multi_task_head.MultiTaskHead'>                   \u001b[0m\u001b[32m \u001b[0m│\n",
       "│\u001b[36m \u001b[0m\u001b[36mNonLinearNeck             \u001b[0m\u001b[36m \u001b[0m│\u001b[32m \u001b[0m\u001b[32m<class 'mmpretrain.models.necks.nonlinear_neck.NonLinearNeck'>                    \u001b[0m\u001b[32m \u001b[0m│\n",
       "│\u001b[36m \u001b[0m\u001b[36mOFA                       \u001b[0m\u001b[36m \u001b[0m│\u001b[32m \u001b[0m\u001b[32m<function register_multimodal_placeholder.<locals>.ask_install at 0x7fae96c2bb50> \u001b[0m\u001b[32m \u001b[0m│\n",
       "│\u001b[36m \u001b[0m\u001b[36mOtter                     \u001b[0m\u001b[36m \u001b[0m│\u001b[32m \u001b[0m\u001b[32m<function register_multimodal_placeholder.<locals>.ask_install at 0x7fae96c2bd90> \u001b[0m\u001b[32m \u001b[0m│\n",
       "│\u001b[36m \u001b[0m\u001b[36mPCPVT                     \u001b[0m\u001b[36m \u001b[0m│\u001b[32m \u001b[0m\u001b[32m<class 'mmpretrain.models.backbones.twins.PCPVT'>                                 \u001b[0m\u001b[32m \u001b[0m│\n",
       "│\u001b[36m \u001b[0m\u001b[36mPixelReconstructionLoss   \u001b[0m\u001b[36m \u001b[0m│\u001b[32m \u001b[0m\u001b[32m<class 'mmpretrain.models.losses.reconstruction_loss.PixelReconstructionLoss'>    \u001b[0m\u001b[32m \u001b[0m│\n",
       "│\u001b[36m \u001b[0m\u001b[36mPoolFormer                \u001b[0m\u001b[36m \u001b[0m│\u001b[32m \u001b[0m\u001b[32m<class 'mmpretrain.models.backbones.poolformer.PoolFormer'>                       \u001b[0m\u001b[32m \u001b[0m│\n",
       "│\u001b[36m \u001b[0m\u001b[36mPyramidVig                \u001b[0m\u001b[36m \u001b[0m│\u001b[32m \u001b[0m\u001b[32m<class 'mmpretrain.models.backbones.vig.PyramidVig'>                              \u001b[0m\u001b[32m \u001b[0m│\n",
       "│\u001b[36m \u001b[0m\u001b[36mQuickGELU                 \u001b[0m\u001b[36m \u001b[0m│\u001b[32m \u001b[0m\u001b[32m<class 'mmpretrain.models.utils.clip_generator_helper.QuickGELU'>                 \u001b[0m\u001b[32m \u001b[0m│\n",
       "│\u001b[36m \u001b[0m\u001b[36mRAM                       \u001b[0m\u001b[36m \u001b[0m│\u001b[32m \u001b[0m\u001b[32m<function register_multimodal_placeholder.<locals>.ask_install at 0x7fae96c2bf40> \u001b[0m\u001b[32m \u001b[0m│\n",
       "│\u001b[36m \u001b[0m\u001b[36mRAMNormal                 \u001b[0m\u001b[36m \u001b[0m│\u001b[32m \u001b[0m\u001b[32m<function register_multimodal_placeholder.<locals>.ask_install at 0x7fae96c44040> \u001b[0m\u001b[32m \u001b[0m│\n",
       "│\u001b[36m \u001b[0m\u001b[36mRAMOpenset                \u001b[0m\u001b[36m \u001b[0m│\u001b[32m \u001b[0m\u001b[32m<function register_multimodal_placeholder.<locals>.ask_install at 0x7fae96c440d0> \u001b[0m\u001b[32m \u001b[0m│\n",
       "│\u001b[36m \u001b[0m\u001b[36mRIFormer                  \u001b[0m\u001b[36m \u001b[0m│\u001b[32m \u001b[0m\u001b[32m<class 'mmpretrain.models.backbones.riformer.RIFormer'>                           \u001b[0m\u001b[32m \u001b[0m│\n",
       "│\u001b[36m \u001b[0m\u001b[36mRegNet                    \u001b[0m\u001b[36m \u001b[0m│\u001b[32m \u001b[0m\u001b[32m<class 'mmpretrain.models.backbones.regnet.RegNet'>                               \u001b[0m\u001b[32m \u001b[0m│\n",
       "│\u001b[36m \u001b[0m\u001b[36mRepLKNet                  \u001b[0m\u001b[36m \u001b[0m│\u001b[32m \u001b[0m\u001b[32m<class 'mmpretrain.models.backbones.replknet.RepLKNet'>                           \u001b[0m\u001b[32m \u001b[0m│\n",
       "│\u001b[36m \u001b[0m\u001b[36mRepMLPNet                 \u001b[0m\u001b[36m \u001b[0m│\u001b[32m \u001b[0m\u001b[32m<class 'mmpretrain.models.backbones.repmlp.RepMLPNet'>                            \u001b[0m\u001b[32m \u001b[0m│\n",
       "│\u001b[36m \u001b[0m\u001b[36mRepVGG                    \u001b[0m\u001b[36m \u001b[0m│\u001b[32m \u001b[0m\u001b[32m<class 'mmpretrain.models.backbones.repvgg.RepVGG'>                               \u001b[0m\u001b[32m \u001b[0m│\n",
       "│\u001b[36m \u001b[0m\u001b[36mRes2Net                   \u001b[0m\u001b[36m \u001b[0m│\u001b[32m \u001b[0m\u001b[32m<class 'mmpretrain.models.backbones.res2net.Res2Net'>                             \u001b[0m\u001b[32m \u001b[0m│\n",
       "│\u001b[36m \u001b[0m\u001b[36mResNeSt                   \u001b[0m\u001b[36m \u001b[0m│\u001b[32m \u001b[0m\u001b[32m<class 'mmpretrain.models.backbones.resnest.ResNeSt'>                             \u001b[0m\u001b[32m \u001b[0m│\n",
       "│\u001b[36m \u001b[0m\u001b[36mResNeXt                   \u001b[0m\u001b[36m \u001b[0m│\u001b[32m \u001b[0m\u001b[32m<class 'mmpretrain.models.backbones.resnext.ResNeXt'>                             \u001b[0m\u001b[32m \u001b[0m│\n",
       "│\u001b[36m \u001b[0m\u001b[36mResNet                    \u001b[0m\u001b[36m \u001b[0m│\u001b[32m \u001b[0m\u001b[32m<class 'mmpretrain.models.backbones.resnet.ResNet'>                               \u001b[0m\u001b[32m \u001b[0m│\n",
       "│\u001b[36m \u001b[0m\u001b[36mResNetV1c                 \u001b[0m\u001b[36m \u001b[0m│\u001b[32m \u001b[0m\u001b[32m<class 'mmpretrain.models.backbones.resnet.ResNetV1c'>                            \u001b[0m\u001b[32m \u001b[0m│\n",
       "│\u001b[36m \u001b[0m\u001b[36mResNetV1d                 \u001b[0m\u001b[36m \u001b[0m│\u001b[32m \u001b[0m\u001b[32m<class 'mmpretrain.models.backbones.resnet.ResNetV1d'>                            \u001b[0m\u001b[32m \u001b[0m│\n",
       "│\u001b[36m \u001b[0m\u001b[36mResNet_CIFAR              \u001b[0m\u001b[36m \u001b[0m│\u001b[32m \u001b[0m\u001b[32m<class 'mmpretrain.models.backbones.resnet_cifar.ResNet_CIFAR'>                   \u001b[0m\u001b[32m \u001b[0m│\n",
       "│\u001b[36m \u001b[0m\u001b[36mResNet_MBFD               \u001b[0m\u001b[36m \u001b[0m│\u001b[32m \u001b[0m\u001b[32m<class 'mmpretrain.models.backbones.resnet_mbfd.ResNet_MBFD'>                     \u001b[0m\u001b[32m \u001b[0m│\n",
       "│\u001b[36m \u001b[0m\u001b[36mRevVisionTransformer      \u001b[0m\u001b[36m \u001b[0m│\u001b[32m \u001b[0m\u001b[32m<class 'mmpretrain.models.backbones.revvit.RevVisionTransformer'>                 \u001b[0m\u001b[32m \u001b[0m│\n",
       "│\u001b[36m \u001b[0m\u001b[36mSEResNeXt                 \u001b[0m\u001b[36m \u001b[0m│\u001b[32m \u001b[0m\u001b[32m<class 'mmpretrain.models.backbones.seresnext.SEResNeXt'>                         \u001b[0m\u001b[32m \u001b[0m│\n",
       "│\u001b[36m \u001b[0m\u001b[36mSEResNet                  \u001b[0m\u001b[36m \u001b[0m│\u001b[32m \u001b[0m\u001b[32m<class 'mmpretrain.models.backbones.seresnet.SEResNet'>                           \u001b[0m\u001b[32m \u001b[0m│\n",
       "│\u001b[36m \u001b[0m\u001b[36mSVT                       \u001b[0m\u001b[36m \u001b[0m│\u001b[32m \u001b[0m\u001b[32m<class 'mmpretrain.models.backbones.twins.SVT'>                                   \u001b[0m\u001b[32m \u001b[0m│\n",
       "│\u001b[36m \u001b[0m\u001b[36mSeesawLoss                \u001b[0m\u001b[36m \u001b[0m│\u001b[32m \u001b[0m\u001b[32m<class 'mmpretrain.models.losses.seesaw_loss.SeesawLoss'>                         \u001b[0m\u001b[32m \u001b[0m│\n",
       "│\u001b[36m \u001b[0m\u001b[36mSelfSupDataPreprocessor   \u001b[0m\u001b[36m \u001b[0m│\u001b[32m \u001b[0m\u001b[32m<class 'mmpretrain.models.utils.data_preprocessor.SelfSupDataPreprocessor'>       \u001b[0m\u001b[32m \u001b[0m│\n",
       "│\u001b[36m \u001b[0m\u001b[36mSeqGenerationHead         \u001b[0m\u001b[36m \u001b[0m│\u001b[32m \u001b[0m\u001b[32m<class 'mmpretrain.models.heads.seq_gen_head.SeqGenerationHead'>                  \u001b[0m\u001b[32m \u001b[0m│\n",
       "│\u001b[36m \u001b[0m\u001b[36mShiftWindowMSA            \u001b[0m\u001b[36m \u001b[0m│\u001b[32m \u001b[0m\u001b[32m<class 'mmpretrain.models.utils.attention.ShiftWindowMSA'>                        \u001b[0m\u001b[32m \u001b[0m│\n",
       "│\u001b[36m \u001b[0m\u001b[36mShuffleNetV1              \u001b[0m\u001b[36m \u001b[0m│\u001b[32m \u001b[0m\u001b[32m<class 'mmpretrain.models.backbones.shufflenet_v1.ShuffleNetV1'>                  \u001b[0m\u001b[32m \u001b[0m│\n",
       "│\u001b[36m \u001b[0m\u001b[36mShuffleNetV2              \u001b[0m\u001b[36m \u001b[0m│\u001b[32m \u001b[0m\u001b[32m<class 'mmpretrain.models.backbones.shufflenet_v2.ShuffleNetV2'>                  \u001b[0m\u001b[32m \u001b[0m│\n",
       "│\u001b[36m \u001b[0m\u001b[36mSimCLR                    \u001b[0m\u001b[36m \u001b[0m│\u001b[32m \u001b[0m\u001b[32m<class 'mmpretrain.models.selfsup.simclr.SimCLR'>                                 \u001b[0m\u001b[32m \u001b[0m│\n",
       "│\u001b[36m \u001b[0m\u001b[36mSimMIM                    \u001b[0m\u001b[36m \u001b[0m│\u001b[32m \u001b[0m\u001b[32m<class 'mmpretrain.models.selfsup.simmim.SimMIM'>                                 \u001b[0m\u001b[32m \u001b[0m│\n",
       "│\u001b[36m \u001b[0m\u001b[36mSimMIMHead                \u001b[0m\u001b[36m \u001b[0m│\u001b[32m \u001b[0m\u001b[32m<class 'mmpretrain.models.heads.simmim_head.SimMIMHead'>                          \u001b[0m\u001b[32m \u001b[0m│\n",
       "│\u001b[36m \u001b[0m\u001b[36mSimMIMLinearDecoder       \u001b[0m\u001b[36m \u001b[0m│\u001b[32m \u001b[0m\u001b[32m<class 'mmpretrain.models.necks.simmim_neck.SimMIMLinearDecoder'>                 \u001b[0m\u001b[32m \u001b[0m│\n",
       "│\u001b[36m \u001b[0m\u001b[36mSimMIMSwinTransformer     \u001b[0m\u001b[36m \u001b[0m│\u001b[32m \u001b[0m\u001b[32m<class 'mmpretrain.models.selfsup.simmim.SimMIMSwinTransformer'>                  \u001b[0m\u001b[32m \u001b[0m│\n",
       "│\u001b[36m \u001b[0m\u001b[36mSimSiam                   \u001b[0m\u001b[36m \u001b[0m│\u001b[32m \u001b[0m\u001b[32m<class 'mmpretrain.models.selfsup.simsiam.SimSiam'>                               \u001b[0m\u001b[32m \u001b[0m│\n",
       "│\u001b[36m \u001b[0m\u001b[36mSparK                     \u001b[0m\u001b[36m \u001b[0m│\u001b[32m \u001b[0m\u001b[32m<class 'mmpretrain.models.selfsup.spark.SparK'>                                   \u001b[0m\u001b[32m \u001b[0m│\n",
       "│\u001b[36m \u001b[0m\u001b[36mSparKLightDecoder         \u001b[0m\u001b[36m \u001b[0m│\u001b[32m \u001b[0m\u001b[32m<class 'mmpretrain.models.necks.spark_neck.SparKLightDecoder'>                    \u001b[0m\u001b[32m \u001b[0m│\n",
       "│\u001b[36m \u001b[0m\u001b[36mSparKPretrainHead         \u001b[0m\u001b[36m \u001b[0m│\u001b[32m \u001b[0m\u001b[32m<class 'mmpretrain.models.heads.spark_head.SparKPretrainHead'>                    \u001b[0m\u001b[32m \u001b[0m│\n",
       "│\u001b[36m \u001b[0m\u001b[36mSparseBatchNorm2d         \u001b[0m\u001b[36m \u001b[0m│\u001b[32m \u001b[0m\u001b[32m<class 'mmpretrain.models.utils.sparse_modules.SparseBatchNorm2d'>                \u001b[0m\u001b[32m \u001b[0m│\n",
       "│\u001b[36m \u001b[0m\u001b[36mSparseConvNeXt            \u001b[0m\u001b[36m \u001b[0m│\u001b[32m \u001b[0m\u001b[32m<class 'mmpretrain.models.backbones.sparse_convnext.SparseConvNeXt'>              \u001b[0m\u001b[32m \u001b[0m│\n",
       "│\u001b[36m \u001b[0m\u001b[36mSparseLN2d                \u001b[0m\u001b[36m \u001b[0m│\u001b[32m \u001b[0m\u001b[32m<class 'mmpretrain.models.utils.sparse_modules.SparseLayerNorm2D'>                \u001b[0m\u001b[32m \u001b[0m│\n",
       "│\u001b[36m \u001b[0m\u001b[36mSparseResNet              \u001b[0m\u001b[36m \u001b[0m│\u001b[32m \u001b[0m\u001b[32m<class 'mmpretrain.models.backbones.sparse_resnet.SparseResNet'>                  \u001b[0m\u001b[32m \u001b[0m│\n",
       "│\u001b[36m \u001b[0m\u001b[36mSparseSyncBatchNorm2d     \u001b[0m\u001b[36m \u001b[0m│\u001b[32m \u001b[0m\u001b[32m<class 'mmpretrain.models.utils.sparse_modules.SparseSyncBatchNorm2d'>            \u001b[0m\u001b[32m \u001b[0m│\n",
       "│\u001b[36m \u001b[0m\u001b[36mStackedLinearClsHead      \u001b[0m\u001b[36m \u001b[0m│\u001b[32m \u001b[0m\u001b[32m<class 'mmpretrain.models.heads.stacked_head.StackedLinearClsHead'>               \u001b[0m\u001b[32m \u001b[0m│\n",
       "│\u001b[36m \u001b[0m\u001b[36mSwAV                      \u001b[0m\u001b[36m \u001b[0m│\u001b[32m \u001b[0m\u001b[32m<class 'mmpretrain.models.selfsup.swav.SwAV'>                                     \u001b[0m\u001b[32m \u001b[0m│\n",
       "│\u001b[36m \u001b[0m\u001b[36mSwAVHead                  \u001b[0m\u001b[36m \u001b[0m│\u001b[32m \u001b[0m\u001b[32m<class 'mmpretrain.models.heads.swav_head.SwAVHead'>                              \u001b[0m\u001b[32m \u001b[0m│\n",
       "│\u001b[36m \u001b[0m\u001b[36mSwAVLoss                  \u001b[0m\u001b[36m \u001b[0m│\u001b[32m \u001b[0m\u001b[32m<class 'mmpretrain.models.losses.swav_loss.SwAVLoss'>                             \u001b[0m\u001b[32m \u001b[0m│\n",
       "│\u001b[36m \u001b[0m\u001b[36mSwAVNeck                  \u001b[0m\u001b[36m \u001b[0m│\u001b[32m \u001b[0m\u001b[32m<class 'mmpretrain.models.necks.swav_neck.SwAVNeck'>                              \u001b[0m\u001b[32m \u001b[0m│\n",
       "│\u001b[36m \u001b[0m\u001b[36mSwinTransformer           \u001b[0m\u001b[36m \u001b[0m│\u001b[32m \u001b[0m\u001b[32m<class 'mmpretrain.models.backbones.swin_transformer.SwinTransformer'>            \u001b[0m\u001b[32m \u001b[0m│\n",
       "│\u001b[36m \u001b[0m\u001b[36mSwinTransformerV2         \u001b[0m\u001b[36m \u001b[0m│\u001b[32m \u001b[0m\u001b[32m<class 'mmpretrain.models.backbones.swin_transformer_v2.SwinTransformerV2'>       \u001b[0m\u001b[32m \u001b[0m│\n",
       "│\u001b[36m \u001b[0m\u001b[36mSwinTransformerV2_MBFD    \u001b[0m\u001b[36m \u001b[0m│\u001b[32m \u001b[0m\u001b[32m<class                                                                            \u001b[0m\u001b[32m \u001b[0m│\n",
       "│\u001b[36m                            \u001b[0m│\u001b[32m \u001b[0m\u001b[32m'mmpretrain.models.backbones.swin_transformer_v2_mbfd.SwinTransformerV2_MBFD'>    \u001b[0m\u001b[32m \u001b[0m│\n",
       "│\u001b[36m \u001b[0m\u001b[36mT2T_ViT                   \u001b[0m\u001b[36m \u001b[0m│\u001b[32m \u001b[0m\u001b[32m<class 'mmpretrain.models.backbones.t2t_vit.T2T_ViT'>                             \u001b[0m\u001b[32m \u001b[0m│\n",
       "│\u001b[36m \u001b[0m\u001b[36mTIMMBackbone              \u001b[0m\u001b[36m \u001b[0m│\u001b[32m \u001b[0m\u001b[32m<class 'mmpretrain.models.backbones.timm_backbone.TIMMBackbone'>                  \u001b[0m\u001b[32m \u001b[0m│\n",
       "│\u001b[36m \u001b[0m\u001b[36mTNT                       \u001b[0m\u001b[36m \u001b[0m│\u001b[32m \u001b[0m\u001b[32m<class 'mmpretrain.models.backbones.tnt.TNT'>                                     \u001b[0m\u001b[32m \u001b[0m│\n",
       "│\u001b[36m \u001b[0m\u001b[36mTimmClassifier            \u001b[0m\u001b[36m \u001b[0m│\u001b[32m \u001b[0m\u001b[32m<class 'mmpretrain.models.classifiers.timm.TimmClassifier'>                       \u001b[0m\u001b[32m \u001b[0m│\n",
       "│\u001b[36m \u001b[0m\u001b[36mTinyViT                   \u001b[0m\u001b[36m \u001b[0m│\u001b[32m \u001b[0m\u001b[32m<class 'mmpretrain.models.backbones.tinyvit.TinyViT'>                             \u001b[0m\u001b[32m \u001b[0m│\n",
       "│\u001b[36m \u001b[0m\u001b[36mTwoNormDataPreprocessor   \u001b[0m\u001b[36m \u001b[0m│\u001b[32m \u001b[0m\u001b[32m<class 'mmpretrain.models.utils.data_preprocessor.TwoNormDataPreprocessor'>       \u001b[0m\u001b[32m \u001b[0m│\n",
       "│\u001b[36m \u001b[0m\u001b[36mVAN                       \u001b[0m\u001b[36m \u001b[0m│\u001b[32m \u001b[0m\u001b[32m<class 'mmpretrain.models.backbones.van.VAN'>                                     \u001b[0m\u001b[32m \u001b[0m│\n",
       "│\u001b[36m \u001b[0m\u001b[36mVGG                       \u001b[0m\u001b[36m \u001b[0m│\u001b[32m \u001b[0m\u001b[32m<class 'mmpretrain.models.backbones.vgg.VGG'>                                     \u001b[0m\u001b[32m \u001b[0m│\n",
       "│\u001b[36m \u001b[0m\u001b[36mVQAGenerationHead         \u001b[0m\u001b[36m \u001b[0m│\u001b[32m \u001b[0m\u001b[32m<class 'mmpretrain.models.heads.vqa_head.VQAGenerationHead'>                      \u001b[0m\u001b[32m \u001b[0m│\n",
       "│\u001b[36m \u001b[0m\u001b[36mVQKD                      \u001b[0m\u001b[36m \u001b[0m│\u001b[32m \u001b[0m\u001b[32m<class 'mmpretrain.models.selfsup.beit.VQKD'>                                     \u001b[0m\u001b[32m \u001b[0m│\n",
       "│\u001b[36m \u001b[0m\u001b[36mViTEVA02                  \u001b[0m\u001b[36m \u001b[0m│\u001b[32m \u001b[0m\u001b[32m<class 'mmpretrain.models.backbones.vit_eva02.ViTEVA02'>                          \u001b[0m\u001b[32m \u001b[0m│\n",
       "│\u001b[36m \u001b[0m\u001b[36mViTSAM                    \u001b[0m\u001b[36m \u001b[0m│\u001b[32m \u001b[0m\u001b[32m<class 'mmpretrain.models.backbones.vit_sam.ViTSAM'>                              \u001b[0m\u001b[32m \u001b[0m│\n",
       "│\u001b[36m \u001b[0m\u001b[36mVideoDataPreprocessor     \u001b[0m\u001b[36m \u001b[0m│\u001b[32m \u001b[0m\u001b[32m<class 'mmpretrain.models.utils.data_preprocessor.VideoDataPreprocessor'>         \u001b[0m\u001b[32m \u001b[0m│\n",
       "│\u001b[36m \u001b[0m\u001b[36mVig                       \u001b[0m\u001b[36m \u001b[0m│\u001b[32m \u001b[0m\u001b[32m<class 'mmpretrain.models.backbones.vig.Vig'>                                     \u001b[0m\u001b[32m \u001b[0m│\n",
       "│\u001b[36m \u001b[0m\u001b[36mVigClsHead                \u001b[0m\u001b[36m \u001b[0m│\u001b[32m \u001b[0m\u001b[32m<class 'mmpretrain.models.heads.vig_head.VigClsHead'>                             \u001b[0m\u001b[32m \u001b[0m│\n",
       "│\u001b[36m \u001b[0m\u001b[36mVisionTransformer         \u001b[0m\u001b[36m \u001b[0m│\u001b[32m \u001b[0m\u001b[32m<class 'mmpretrain.models.backbones.vision_transformer.VisionTransformer'>        \u001b[0m\u001b[32m \u001b[0m│\n",
       "│\u001b[36m \u001b[0m\u001b[36mVisionTransformerClsHead  \u001b[0m\u001b[36m \u001b[0m│\u001b[32m \u001b[0m\u001b[32m<class 'mmpretrain.models.heads.vision_transformer_head.VisionTransformerClsHead'>\u001b[0m\u001b[32m \u001b[0m│\n",
       "│\u001b[36m \u001b[0m\u001b[36mXCiT                      \u001b[0m\u001b[36m \u001b[0m│\u001b[32m \u001b[0m\u001b[32m<class 'mmpretrain.models.backbones.xcit.XCiT'>                                   \u001b[0m\u001b[32m \u001b[0m│\n",
       "│\u001b[36m \u001b[0m\u001b[36miTPN                      \u001b[0m\u001b[36m \u001b[0m│\u001b[32m \u001b[0m\u001b[32m<class 'mmpretrain.models.selfsup.itpn.iTPN'>                                     \u001b[0m\u001b[32m \u001b[0m│\n",
       "│\u001b[36m \u001b[0m\u001b[36miTPNClipHead              \u001b[0m\u001b[36m \u001b[0m│\u001b[32m \u001b[0m\u001b[32m<class 'mmpretrain.models.heads.itpn_clip_head.iTPNClipHead'>                     \u001b[0m\u001b[32m \u001b[0m│\n",
       "│\u001b[36m \u001b[0m\u001b[36miTPNHiViT                 \u001b[0m\u001b[36m \u001b[0m│\u001b[32m \u001b[0m\u001b[32m<class 'mmpretrain.models.selfsup.itpn.iTPNHiViT'>                                \u001b[0m\u001b[32m \u001b[0m│\n",
       "│\u001b[36m \u001b[0m\u001b[36miTPNPretrainDecoder       \u001b[0m\u001b[36m \u001b[0m│\u001b[32m \u001b[0m\u001b[32m<class 'mmpretrain.models.necks.itpn_neck.iTPNPretrainDecoder'>                   \u001b[0m\u001b[32m \u001b[0m│\n",
       "└────────────────────────────┴────────────────────────────────────────────────────────────────────────────────────┘"
      ]
     },
     "execution_count": 10,
     "metadata": {},
     "output_type": "execute_result"
    }
   ],
   "source": [
    "zoo.BACKBONES"
   ]
  },
  {
   "cell_type": "code",
   "execution_count": 4,
   "id": "eed68524",
   "metadata": {},
   "outputs": [
    {
     "data": {
      "text/plain": [
       "mmpretrain.models.backbones.convnext.ConvNeXt"
      ]
     },
     "execution_count": 4,
     "metadata": {},
     "output_type": "execute_result"
    }
   ],
   "source": [
    "zoo.ConvNeXt"
   ]
  },
  {
   "cell_type": "code",
   "execution_count": 17,
   "id": "ab57d122",
   "metadata": {},
   "outputs": [],
   "source": [
    "m = zoo.ConvNeXt(out_indices=[0, 1, 2, 3], use_grn=True,gap_before_final_norm=False)"
   ]
  },
  {
   "cell_type": "code",
   "execution_count": 18,
   "id": "cee88477",
   "metadata": {},
   "outputs": [],
   "source": [
    "inputs = torch.rand(1,3,640,640)\n",
    "level_outputs = m(inputs)"
   ]
  },
  {
   "cell_type": "code",
   "execution_count": 19,
   "id": "b041705c",
   "metadata": {},
   "outputs": [
    {
     "name": "stdout",
     "output_type": "stream",
     "text": [
      "torch.Size([1, 96, 160, 160])\n",
      "torch.Size([1, 192, 80, 80])\n",
      "torch.Size([1, 384, 40, 40])\n",
      "torch.Size([1, 768, 20, 20])\n"
     ]
    }
   ],
   "source": [
    "for level_out in level_outputs:\n",
    "    print(level_out.shape)"
   ]
  }
 ],
 "metadata": {
  "kernelspec": {
   "display_name": "openmmlab",
   "language": "python",
   "name": "python3"
  },
  "language_info": {
   "codemirror_mode": {
    "name": "ipython",
    "version": 3
   },
   "file_extension": ".py",
   "mimetype": "text/x-python",
   "name": "python",
   "nbconvert_exporter": "python",
   "pygments_lexer": "ipython3",
   "version": "3.10.16"
  }
 },
 "nbformat": 4,
 "nbformat_minor": 5
}
